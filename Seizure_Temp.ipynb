{
 "cells": [
  {
   "cell_type": "markdown",
   "metadata": {},
   "source": [
    "## OBJECTIVE\n",
    "- leveraging advanced machine learning techniques to develop a predictive model aimed at forecasting seizures triggered by fluctuations in body temperature. Through comprehensive data analysis, model training, and evaluation, our notebook guides you through the process of harnessing artificial intelligence to enhance seizure prediction, offering insights into potential risk factors and empowering proactive healthcare interventions.\""
   ]
  },
  {
   "cell_type": "markdown",
   "metadata": {},
   "source": []
  },
  {
   "cell_type": "markdown",
   "metadata": {},
   "source": [
    "## Data Exploration and Preprocessing:\n",
    "\n",
    "Begin by thoroughly exploring your dataset, checking for missing values, outliers, and any inconsistencies in the data.\n",
    "Perform feature engineering if necessary, creating new features or transforming existing ones to better represent the underlying patterns in the data.\n",
    "Split your data into training and testing sets to evaluate your model's performance accurately.\n",
    "\n",
    "## Model Selection:\n",
    "\n",
    "Start by experimenting with different machine learning models suitable for binary classification tasks. Logistic Regression, Decision Trees, Random Forests, Gradient Boosting Machines (GBM), and Support Vector Machines (SVM) are all potential candidates.\n",
    "Consider using ensemble methods like Random Forests or Gradient Boosting to improve predictive performance.\n",
    "Additionally, you may explore deep learning models like Convolutional Neural Networks (CNNs) or Recurrent Neural Networks (RNNs) if the data exhibits complex temporal patterns.\n",
    "\n",
    "## Model Training and Evaluation:\n",
    "\n",
    "Train your chosen models on the training dataset and evaluate their performance using appropriate evaluation metrics such as accuracy, precision, recall, F1-score, and ROC-AUC.\n",
    "Perform hyperparameter tuning using techniques like grid search or random search to optimize model performance.\n",
    "\n",
    "## Model Interpretation and Validation:\n",
    "\n",
    "After selecting the best-performing model, validate it using the testing dataset to ensure its generalization to unseen data.\n",
    "Interpret the model's predictions and identify the most influential features contributing to seizure prediction. This step is crucial for understanding the model's decision-making process and gaining insights into the underlying relationships in the data.\n",
    "\n",
    "## Deployment and Monitoring:\n",
    "\n",
    "Once you're satisfied with your model's performance, deploy it in a real-world setting where it can assist in predicting seizures.\n",
    "Implement a monitoring system to track the model's performance over time and ensure its continued accuracy and reliability. Regularly update the model as new data becomes available or as the underlying patterns in the data change."
   ]
  },
  {
   "cell_type": "code",
   "execution_count": 89,
   "metadata": {},
   "outputs": [],
   "source": [
    "#  imports \n",
    "\n",
    "#data exploration, visualization and preprocessing \n",
    "\n",
    "import pandas as pd\n",
    "import numpy as np\n",
    "import matplotlib.pyplot as plt\n",
    "import seaborn as sns\n",
    "from sklearn.model_selection import train_test_split\n",
    "from sklearn.preprocessing import StandardScaler, LabelEncoder\n",
    "\n",
    "# model selection\n",
    "from sklearn.tree import DecisionTreeClassifier\n",
    "from sklearn.ensemble import RandomForestClassifier, GradientBoostingClassifier\n",
    "from sklearn.linear_model import LogisticRegression\n",
    "\n",
    "\n",
    "# model Evaluation\n",
    "from sklearn.metrics import precision_score, accuracy_score, recall_score, f1_score, roc_auc_score\n",
    "\n"
   ]
  },
  {
   "cell_type": "code",
   "execution_count": 90,
   "metadata": {},
   "outputs": [
    {
     "data": {
      "text/html": [
       "<div>\n",
       "<style scoped>\n",
       "    .dataframe tbody tr th:only-of-type {\n",
       "        vertical-align: middle;\n",
       "    }\n",
       "\n",
       "    .dataframe tbody tr th {\n",
       "        vertical-align: top;\n",
       "    }\n",
       "\n",
       "    .dataframe thead th {\n",
       "        text-align: right;\n",
       "    }\n",
       "</style>\n",
       "<table border=\"1\" class=\"dataframe\">\n",
       "  <thead>\n",
       "    <tr style=\"text-align: right;\">\n",
       "      <th></th>\n",
       "      <th>Age</th>\n",
       "      <th>BodyTemp_Celsius</th>\n",
       "      <th>HeartRate</th>\n",
       "      <th>Seizure</th>\n",
       "      <th>Gender</th>\n",
       "      <th>PatientID</th>\n",
       "      <th>DateTime</th>\n",
       "    </tr>\n",
       "  </thead>\n",
       "  <tbody>\n",
       "    <tr>\n",
       "      <th>0</th>\n",
       "      <td>25</td>\n",
       "      <td>36.7</td>\n",
       "      <td>86</td>\n",
       "      <td>No</td>\n",
       "      <td>Female</td>\n",
       "      <td>749979</td>\n",
       "      <td>2024-02-28 12:50:27.838104639</td>\n",
       "    </tr>\n",
       "    <tr>\n",
       "      <th>1</th>\n",
       "      <td>35</td>\n",
       "      <td>36.7</td>\n",
       "      <td>70</td>\n",
       "      <td>No</td>\n",
       "      <td>Male</td>\n",
       "      <td>549917</td>\n",
       "      <td>2024-04-02 18:28:47.147087857</td>\n",
       "    </tr>\n",
       "    <tr>\n",
       "      <th>2</th>\n",
       "      <td>29</td>\n",
       "      <td>37.8</td>\n",
       "      <td>80</td>\n",
       "      <td>Yes</td>\n",
       "      <td>Male</td>\n",
       "      <td>561158</td>\n",
       "      <td>2024-01-17 15:32:31.036525172</td>\n",
       "    </tr>\n",
       "    <tr>\n",
       "      <th>3</th>\n",
       "      <td>30</td>\n",
       "      <td>36.7</td>\n",
       "      <td>70</td>\n",
       "      <td>No</td>\n",
       "      <td>Male</td>\n",
       "      <td>483038</td>\n",
       "      <td>2024-03-03 10:16:56.386969397</td>\n",
       "    </tr>\n",
       "    <tr>\n",
       "      <th>4</th>\n",
       "      <td>35</td>\n",
       "      <td>36.7</td>\n",
       "      <td>76</td>\n",
       "      <td>No</td>\n",
       "      <td>Female</td>\n",
       "      <td>466512</td>\n",
       "      <td>2024-03-12 00:29:51.115498519</td>\n",
       "    </tr>\n",
       "  </tbody>\n",
       "</table>\n",
       "</div>"
      ],
      "text/plain": [
       "   Age  BodyTemp_Celsius  HeartRate Seizure  Gender  PatientID  \\\n",
       "0   25              36.7         86      No  Female     749979   \n",
       "1   35              36.7         70      No    Male     549917   \n",
       "2   29              37.8         80     Yes    Male     561158   \n",
       "3   30              36.7         70      No    Male     483038   \n",
       "4   35              36.7         76      No  Female     466512   \n",
       "\n",
       "                        DateTime  \n",
       "0  2024-02-28 12:50:27.838104639  \n",
       "1  2024-04-02 18:28:47.147087857  \n",
       "2  2024-01-17 15:32:31.036525172  \n",
       "3  2024-03-03 10:16:56.386969397  \n",
       "4  2024-03-12 00:29:51.115498519  "
      ]
     },
     "execution_count": 90,
     "metadata": {},
     "output_type": "execute_result"
    }
   ],
   "source": [
    "df = pd.read_csv(\"dataset.csv\")\n",
    "df.head()"
   ]
  },
  {
   "cell_type": "markdown",
   "metadata": {},
   "source": [
    "## Data Exploration and Preprocessing"
   ]
  },
  {
   "cell_type": "code",
   "execution_count": 91,
   "metadata": {},
   "outputs": [
    {
     "data": {
      "text/html": [
       "<div>\n",
       "<style scoped>\n",
       "    .dataframe tbody tr th:only-of-type {\n",
       "        vertical-align: middle;\n",
       "    }\n",
       "\n",
       "    .dataframe tbody tr th {\n",
       "        vertical-align: top;\n",
       "    }\n",
       "\n",
       "    .dataframe thead th {\n",
       "        text-align: right;\n",
       "    }\n",
       "</style>\n",
       "<table border=\"1\" class=\"dataframe\">\n",
       "  <thead>\n",
       "    <tr style=\"text-align: right;\">\n",
       "      <th></th>\n",
       "      <th>count</th>\n",
       "      <th>mean</th>\n",
       "      <th>std</th>\n",
       "      <th>min</th>\n",
       "      <th>25%</th>\n",
       "      <th>50%</th>\n",
       "      <th>75%</th>\n",
       "      <th>max</th>\n",
       "    </tr>\n",
       "  </thead>\n",
       "  <tbody>\n",
       "    <tr>\n",
       "      <th>Age</th>\n",
       "      <td>1014.0</td>\n",
       "      <td>29.871795</td>\n",
       "      <td>13.474386</td>\n",
       "      <td>10.0</td>\n",
       "      <td>19.00</td>\n",
       "      <td>26.0</td>\n",
       "      <td>39.0</td>\n",
       "      <td>70.0</td>\n",
       "    </tr>\n",
       "    <tr>\n",
       "      <th>BodyTemp_Celsius</th>\n",
       "      <td>1014.0</td>\n",
       "      <td>37.059763</td>\n",
       "      <td>0.743991</td>\n",
       "      <td>36.7</td>\n",
       "      <td>36.70</td>\n",
       "      <td>36.7</td>\n",
       "      <td>36.7</td>\n",
       "      <td>39.4</td>\n",
       "    </tr>\n",
       "    <tr>\n",
       "      <th>HeartRate</th>\n",
       "      <td>1014.0</td>\n",
       "      <td>74.301775</td>\n",
       "      <td>8.088702</td>\n",
       "      <td>7.0</td>\n",
       "      <td>70.00</td>\n",
       "      <td>76.0</td>\n",
       "      <td>80.0</td>\n",
       "      <td>90.0</td>\n",
       "    </tr>\n",
       "    <tr>\n",
       "      <th>PatientID</th>\n",
       "      <td>1014.0</td>\n",
       "      <td>546912.447732</td>\n",
       "      <td>266632.597093</td>\n",
       "      <td>100983.0</td>\n",
       "      <td>320082.25</td>\n",
       "      <td>544634.5</td>\n",
       "      <td>783881.0</td>\n",
       "      <td>998710.0</td>\n",
       "    </tr>\n",
       "  </tbody>\n",
       "</table>\n",
       "</div>"
      ],
      "text/plain": [
       "                   count           mean            std       min        25%  \\\n",
       "Age               1014.0      29.871795      13.474386      10.0      19.00   \n",
       "BodyTemp_Celsius  1014.0      37.059763       0.743991      36.7      36.70   \n",
       "HeartRate         1014.0      74.301775       8.088702       7.0      70.00   \n",
       "PatientID         1014.0  546912.447732  266632.597093  100983.0  320082.25   \n",
       "\n",
       "                       50%       75%       max  \n",
       "Age                   26.0      39.0      70.0  \n",
       "BodyTemp_Celsius      36.7      36.7      39.4  \n",
       "HeartRate             76.0      80.0      90.0  \n",
       "PatientID         544634.5  783881.0  998710.0  "
      ]
     },
     "execution_count": 91,
     "metadata": {},
     "output_type": "execute_result"
    }
   ],
   "source": [
    "\n",
    "df.describe().T"
   ]
  },
  {
   "cell_type": "code",
   "execution_count": 92,
   "metadata": {},
   "outputs": [
    {
     "name": "stdout",
     "output_type": "stream",
     "text": [
      "<class 'pandas.core.frame.DataFrame'>\n",
      "RangeIndex: 1014 entries, 0 to 1013\n",
      "Data columns (total 7 columns):\n",
      " #   Column            Non-Null Count  Dtype  \n",
      "---  ------            --------------  -----  \n",
      " 0   Age               1014 non-null   int64  \n",
      " 1   BodyTemp_Celsius  1014 non-null   float64\n",
      " 2   HeartRate         1014 non-null   int64  \n",
      " 3   Seizure           1014 non-null   object \n",
      " 4   Gender            1014 non-null   object \n",
      " 5   PatientID         1014 non-null   int64  \n",
      " 6   DateTime          1014 non-null   object \n",
      "dtypes: float64(1), int64(3), object(3)\n",
      "memory usage: 55.6+ KB\n"
     ]
    }
   ],
   "source": [
    "df.info()"
   ]
  },
  {
   "cell_type": "code",
   "execution_count": 93,
   "metadata": {},
   "outputs": [
    {
     "data": {
      "text/plain": [
       "Index(['Age', 'BodyTemp_Celsius', 'HeartRate', 'Seizure', 'Gender',\n",
       "       'PatientID', 'DateTime'],\n",
       "      dtype='object')"
      ]
     },
     "execution_count": 93,
     "metadata": {},
     "output_type": "execute_result"
    }
   ],
   "source": [
    "df.columns"
   ]
  },
  {
   "cell_type": "code",
   "execution_count": 94,
   "metadata": {},
   "outputs": [
    {
     "data": {
      "text/plain": [
       "Age                 0\n",
       "BodyTemp_Celsius    0\n",
       "HeartRate           0\n",
       "Seizure             0\n",
       "Gender              0\n",
       "PatientID           0\n",
       "DateTime            0\n",
       "dtype: int64"
      ]
     },
     "execution_count": 94,
     "metadata": {},
     "output_type": "execute_result"
    }
   ],
   "source": [
    "df.isnull().sum()\n",
    "# we can see we dont have null values"
   ]
  },
  {
   "cell_type": "code",
   "execution_count": 95,
   "metadata": {},
   "outputs": [
    {
     "name": "stdout",
     "output_type": "stream",
     "text": [
      "Number of potential outliers:\n",
      "Age                   1\n",
      "BodyTemp_Celsius    210\n",
      "HeartRate             2\n",
      "dtype: int64\n"
     ]
    },
    {
     "data": {
      "image/png": "[encoded data removed]",
      "text/plain": [
       "<Figure size 1000x600 with 1 Axes>"
      ]
     },
     "metadata": {},
     "output_type": "display_data"
    }
   ],
   "source": [
    "# check for outliers\n",
    "numerical_cols = ['Age', 'BodyTemp_Celsius', 'HeartRate']\n",
    "\n",
    "#  we use the interquartile range \n",
    "Q1 = df[numerical_cols].quantile(0.25) \n",
    "Q3 = df[numerical_cols].quantile(0.75) \n",
    "IQR = Q3 - Q1\n",
    "\n",
    "potential_outliers = ((df[numerical_cols] < (Q1 - 1.5 * IQR)) | (df[numerical_cols] > (Q3 + 1.5 * IQR)))\n",
    "\n",
    "print(\"Number of potential outliers:\")\n",
    "print(potential_outliers.sum())\n",
    "\n",
    "plt.figure(figsize=(10, 6))\n",
    "df[numerical_cols].boxplot()\n",
    "plt.title('Boxplot of Numerical Columns')\n",
    "plt.ylabel('Value')\n",
    "plt.xticks(rotation=45)\n",
    "plt.grid(True)\n",
    "plt.show()"
   ]
  },
  {
   "cell_type": "code",
   "execution_count": 96,
   "metadata": {},
   "outputs": [
    {
     "name": "stdout",
     "output_type": "stream",
     "text": [
      "      Age  BodyTemp_Celsius  HeartRate Seizure  Gender  PatientID  \\\n",
      "0      25              36.7         86      No  Female     749979   \n",
      "1      35              36.7         70      No    Male     549917   \n",
      "2      29              37.8         80     Yes    Male     561158   \n",
      "3      30              36.7         70      No    Male     483038   \n",
      "4      35              36.7         76      No  Female     466512   \n",
      "...   ...               ...        ...     ...     ...        ...   \n",
      "1009   22              36.7         80      No  Female     141842   \n",
      "1010   55              36.7         60      No    Male     800296   \n",
      "1011   35              36.7         86      No    Male     101933   \n",
      "1012   43              36.7         70      No    Male     118426   \n",
      "1013   32              38.3         76     Yes    Male     209248   \n",
      "\n",
      "                           DateTime      AgeGroup  \n",
      "0     2024-02-28 12:50:27.838104639  Young Adults  \n",
      "1     2024-04-02 18:28:47.147087857        Adults  \n",
      "2     2024-01-17 15:32:31.036525172  Young Adults  \n",
      "3     2024-03-03 10:16:56.386969397        Adults  \n",
      "4     2024-03-12 00:29:51.115498519        Adults  \n",
      "...                             ...           ...  \n",
      "1009  2024-01-28 18:58:38.262586377  Young Adults  \n",
      "1010  2024-01-24 21:32:09.713721618       Seniors  \n",
      "1011  2024-01-09 07:46:15.518262586        Adults  \n",
      "1012  2024-03-31 18:08:53.070088845        Adults  \n",
      "1013  2024-01-23 00:25:35.241855873        Adults  \n",
      "\n",
      "[1014 rows x 8 columns]\n"
     ]
    }
   ],
   "source": [
    "\n",
    "\n",
    "# Define the bins and labels for age groups\n",
    "bins = [0, 18, 30, 50, float('inf')]  # Define age bins (e.g., 0-18, 19-30, 31-50, 51 and above)\n",
    "labels = ['Children', 'Young Adults', 'Adults', 'Seniors']  # Define corresponding labels for age groups\n",
    "\n",
    "# Create a new column 'AgeGroup' with age groups\n",
    "df['AgeGroup'] = pd.cut(df['Age'], bins=bins, labels=labels, right=False)\n",
    "\n",
    "# Display the DataFrame with the new 'AgeGroup' column\n",
    "print(df)\n"
   ]
  },
  {
   "cell_type": "code",
   "execution_count": 97,
   "metadata": {},
   "outputs": [
    {
     "data": {
      "image/png": "[encoded data removed]",
      "text/plain": [
       "<Figure size 800x600 with 1 Axes>"
      ]
     },
     "metadata": {},
     "output_type": "display_data"
    },
    {
     "data": {
      "image/png": "[encoded data removed]",
      "text/plain": [
       "<Figure size 800x600 with 1 Axes>"
      ]
     },
     "metadata": {},
     "output_type": "display_data"
    },
    {
     "data": {
      "image/png": "[encoded data removed]",
      "text/plain": [
       "<Figure size 800x600 with 1 Axes>"
      ]
     },
     "metadata": {},
     "output_type": "display_data"
    }
   ],
   "source": [
    "#  We plot to see the distribution of our data \n",
    "columns_to_plot = ['Age',  'Seizure', 'Gender']\n",
    "\n",
    "# Plot value counts for each column using bar plots\n",
    "for column in columns_to_plot:\n",
    "    plt.figure(figsize=(8, 6))\n",
    "    sns.countplot(x=column, data=df)\n",
    "    plt.title(f'Value Counts for {column}')\n",
    "    plt.xlabel(column)\n",
    "    plt.ylabel('Count')\n",
    "    plt.xticks(rotation=45)\n",
    "    plt.show()"
   ]
  },
  {
   "cell_type": "code",
   "execution_count": 98,
   "metadata": {},
   "outputs": [],
   "source": [
    "\n",
    "# Convert 'DateTime' column to datetime data type\n",
    "df['DateTime'] = pd.to_datetime(df['DateTime'])\n",
    "\n",
    "# Set 'DateTime' column as the index\n",
    "df.set_index('DateTime', inplace=True)"
   ]
  },
  {
   "cell_type": "code",
   "execution_count": 99,
   "metadata": {},
   "outputs": [
    {
     "data": {
      "text/plain": [
       "Index(['Age', 'BodyTemp_Celsius', 'HeartRate', 'Seizure', 'Gender',\n",
       "       'PatientID', 'AgeGroup'],\n",
       "      dtype='object')"
      ]
     },
     "execution_count": 99,
     "metadata": {},
     "output_type": "execute_result"
    }
   ],
   "source": [
    "df.columns"
   ]
  },
  {
   "cell_type": "code",
   "execution_count": 100,
   "metadata": {},
   "outputs": [
    {
     "data": {
      "text/html": [
       "<div>\n",
       "<style scoped>\n",
       "    .dataframe tbody tr th:only-of-type {\n",
       "        vertical-align: middle;\n",
       "    }\n",
       "\n",
       "    .dataframe tbody tr th {\n",
       "        vertical-align: top;\n",
       "    }\n",
       "\n",
       "    .dataframe thead th {\n",
       "        text-align: right;\n",
       "    }\n",
       "</style>\n",
       "<table border=\"1\" class=\"dataframe\">\n",
       "  <thead>\n",
       "    <tr style=\"text-align: right;\">\n",
       "      <th></th>\n",
       "      <th>Age</th>\n",
       "      <th>BodyTemp_Celsius</th>\n",
       "      <th>HeartRate</th>\n",
       "      <th>Seizure</th>\n",
       "      <th>Gender</th>\n",
       "      <th>PatientID</th>\n",
       "      <th>AgeGroup</th>\n",
       "    </tr>\n",
       "    <tr>\n",
       "      <th>DateTime</th>\n",
       "      <th></th>\n",
       "      <th></th>\n",
       "      <th></th>\n",
       "      <th></th>\n",
       "      <th></th>\n",
       "      <th></th>\n",
       "      <th></th>\n",
       "    </tr>\n",
       "  </thead>\n",
       "  <tbody>\n",
       "    <tr>\n",
       "      <th>2024-02-28 12:50:27.838104639</th>\n",
       "      <td>25</td>\n",
       "      <td>36.7</td>\n",
       "      <td>86</td>\n",
       "      <td>No</td>\n",
       "      <td>Female</td>\n",
       "      <td>749979</td>\n",
       "      <td>Young Adults</td>\n",
       "    </tr>\n",
       "    <tr>\n",
       "      <th>2024-04-02 18:28:47.147087857</th>\n",
       "      <td>35</td>\n",
       "      <td>36.7</td>\n",
       "      <td>70</td>\n",
       "      <td>No</td>\n",
       "      <td>Male</td>\n",
       "      <td>549917</td>\n",
       "      <td>Adults</td>\n",
       "    </tr>\n",
       "    <tr>\n",
       "      <th>2024-01-17 15:32:31.036525172</th>\n",
       "      <td>29</td>\n",
       "      <td>37.8</td>\n",
       "      <td>80</td>\n",
       "      <td>Yes</td>\n",
       "      <td>Male</td>\n",
       "      <td>561158</td>\n",
       "      <td>Young Adults</td>\n",
       "    </tr>\n",
       "    <tr>\n",
       "      <th>2024-03-03 10:16:56.386969397</th>\n",
       "      <td>30</td>\n",
       "      <td>36.7</td>\n",
       "      <td>70</td>\n",
       "      <td>No</td>\n",
       "      <td>Male</td>\n",
       "      <td>483038</td>\n",
       "      <td>Adults</td>\n",
       "    </tr>\n",
       "    <tr>\n",
       "      <th>2024-03-12 00:29:51.115498519</th>\n",
       "      <td>35</td>\n",
       "      <td>36.7</td>\n",
       "      <td>76</td>\n",
       "      <td>No</td>\n",
       "      <td>Female</td>\n",
       "      <td>466512</td>\n",
       "      <td>Adults</td>\n",
       "    </tr>\n",
       "  </tbody>\n",
       "</table>\n",
       "</div>"
      ],
      "text/plain": [
       "                               Age  BodyTemp_Celsius  HeartRate Seizure  \\\n",
       "DateTime                                                                  \n",
       "2024-02-28 12:50:27.838104639   25              36.7         86      No   \n",
       "2024-04-02 18:28:47.147087857   35              36.7         70      No   \n",
       "2024-01-17 15:32:31.036525172   29              37.8         80     Yes   \n",
       "2024-03-03 10:16:56.386969397   30              36.7         70      No   \n",
       "2024-03-12 00:29:51.115498519   35              36.7         76      No   \n",
       "\n",
       "                               Gender  PatientID      AgeGroup  \n",
       "DateTime                                                        \n",
       "2024-02-28 12:50:27.838104639  Female     749979  Young Adults  \n",
       "2024-04-02 18:28:47.147087857    Male     549917        Adults  \n",
       "2024-01-17 15:32:31.036525172    Male     561158  Young Adults  \n",
       "2024-03-03 10:16:56.386969397    Male     483038        Adults  \n",
       "2024-03-12 00:29:51.115498519  Female     466512        Adults  "
      ]
     },
     "execution_count": 100,
     "metadata": {},
     "output_type": "execute_result"
    }
   ],
   "source": [
    "df.head()"
   ]
  },
  {
   "cell_type": "code",
   "execution_count": 101,
   "metadata": {},
   "outputs": [],
   "source": [
    "\n",
    "le = LabelEncoder()\n",
    "\n",
    "# Encode 'Gender' column\n",
    "df['Gender_encoded'] = le.fit_transform(df['Gender'])\n",
    "df.drop(columns=['Gender'], inplace=True)\n",
    "\n",
    "\n",
    "# Encode 'Seizure' column\n",
    "df['Seizure_encoded'] = le.fit_transform(df['Seizure'])\n",
    "df.drop(columns=['Seizure'], inplace=True)\n",
    "\n",
    "# Encode 'AgeGroup' column\n",
    "df['AgeGroup_encoded'] = le.fit_transform(df['AgeGroup'])\n",
    "df.drop(columns=['AgeGroup'], inplace=True)\n"
   ]
  },
  {
   "cell_type": "code",
   "execution_count": 102,
   "metadata": {},
   "outputs": [
    {
     "data": {
      "text/html": [
       "<div>\n",
       "<style scoped>\n",
       "    .dataframe tbody tr th:only-of-type {\n",
       "        vertical-align: middle;\n",
       "    }\n",
       "\n",
       "    .dataframe tbody tr th {\n",
       "        vertical-align: top;\n",
       "    }\n",
       "\n",
       "    .dataframe thead th {\n",
       "        text-align: right;\n",
       "    }\n",
       "</style>\n",
       "<table border=\"1\" class=\"dataframe\">\n",
       "  <thead>\n",
       "    <tr style=\"text-align: right;\">\n",
       "      <th></th>\n",
       "      <th>Age</th>\n",
       "      <th>BodyTemp_Celsius</th>\n",
       "      <th>HeartRate</th>\n",
       "      <th>PatientID</th>\n",
       "      <th>Gender_encoded</th>\n",
       "      <th>Seizure_encoded</th>\n",
       "      <th>AgeGroup_encoded</th>\n",
       "    </tr>\n",
       "    <tr>\n",
       "      <th>DateTime</th>\n",
       "      <th></th>\n",
       "      <th></th>\n",
       "      <th></th>\n",
       "      <th></th>\n",
       "      <th></th>\n",
       "      <th></th>\n",
       "      <th></th>\n",
       "    </tr>\n",
       "  </thead>\n",
       "  <tbody>\n",
       "    <tr>\n",
       "      <th>2024-02-28 12:50:27.838104639</th>\n",
       "      <td>25</td>\n",
       "      <td>36.7</td>\n",
       "      <td>86</td>\n",
       "      <td>749979</td>\n",
       "      <td>0</td>\n",
       "      <td>0</td>\n",
       "      <td>3</td>\n",
       "    </tr>\n",
       "    <tr>\n",
       "      <th>2024-04-02 18:28:47.147087857</th>\n",
       "      <td>35</td>\n",
       "      <td>36.7</td>\n",
       "      <td>70</td>\n",
       "      <td>549917</td>\n",
       "      <td>1</td>\n",
       "      <td>0</td>\n",
       "      <td>0</td>\n",
       "    </tr>\n",
       "    <tr>\n",
       "      <th>2024-01-17 15:32:31.036525172</th>\n",
       "      <td>29</td>\n",
       "      <td>37.8</td>\n",
       "      <td>80</td>\n",
       "      <td>561158</td>\n",
       "      <td>1</td>\n",
       "      <td>1</td>\n",
       "      <td>3</td>\n",
       "    </tr>\n",
       "    <tr>\n",
       "      <th>2024-03-03 10:16:56.386969397</th>\n",
       "      <td>30</td>\n",
       "      <td>36.7</td>\n",
       "      <td>70</td>\n",
       "      <td>483038</td>\n",
       "      <td>1</td>\n",
       "      <td>0</td>\n",
       "      <td>0</td>\n",
       "    </tr>\n",
       "    <tr>\n",
       "      <th>2024-03-12 00:29:51.115498519</th>\n",
       "      <td>35</td>\n",
       "      <td>36.7</td>\n",
       "      <td>76</td>\n",
       "      <td>466512</td>\n",
       "      <td>0</td>\n",
       "      <td>0</td>\n",
       "      <td>0</td>\n",
       "    </tr>\n",
       "  </tbody>\n",
       "</table>\n",
       "</div>"
      ],
      "text/plain": [
       "                               Age  BodyTemp_Celsius  HeartRate  PatientID  \\\n",
       "DateTime                                                                     \n",
       "2024-02-28 12:50:27.838104639   25              36.7         86     749979   \n",
       "2024-04-02 18:28:47.147087857   35              36.7         70     549917   \n",
       "2024-01-17 15:32:31.036525172   29              37.8         80     561158   \n",
       "2024-03-03 10:16:56.386969397   30              36.7         70     483038   \n",
       "2024-03-12 00:29:51.115498519   35              36.7         76     466512   \n",
       "\n",
       "                               Gender_encoded  Seizure_encoded  \\\n",
       "DateTime                                                         \n",
       "2024-02-28 12:50:27.838104639               0                0   \n",
       "2024-04-02 18:28:47.147087857               1                0   \n",
       "2024-01-17 15:32:31.036525172               1                1   \n",
       "2024-03-03 10:16:56.386969397               1                0   \n",
       "2024-03-12 00:29:51.115498519               0                0   \n",
       "\n",
       "                               AgeGroup_encoded  \n",
       "DateTime                                         \n",
       "2024-02-28 12:50:27.838104639                 3  \n",
       "2024-04-02 18:28:47.147087857                 0  \n",
       "2024-01-17 15:32:31.036525172                 3  \n",
       "2024-03-03 10:16:56.386969397                 0  \n",
       "2024-03-12 00:29:51.115498519                 0  "
      ]
     },
     "execution_count": 102,
     "metadata": {},
     "output_type": "execute_result"
    }
   ],
   "source": [
    "df.head()"
   ]
  },
  {
   "cell_type": "code",
   "execution_count": 103,
   "metadata": {},
   "outputs": [
    {
     "data": {
      "text/plain": [
       "(1014, 7)"
      ]
     },
     "execution_count": 103,
     "metadata": {},
     "output_type": "execute_result"
    }
   ],
   "source": [
    "df.shape"
   ]
  },
  {
   "cell_type": "code",
   "execution_count": 104,
   "metadata": {},
   "outputs": [
    {
     "name": "stdout",
     "output_type": "stream",
     "text": [
      "<class 'pandas.core.frame.DataFrame'>\n",
      "DatetimeIndex: 1014 entries, 2024-02-28 12:50:27.838104639 to 2024-01-23 00:25:35.241855873\n",
      "Data columns (total 7 columns):\n",
      " #   Column            Non-Null Count  Dtype  \n",
      "---  ------            --------------  -----  \n",
      " 0   Age               1014 non-null   int64  \n",
      " 1   BodyTemp_Celsius  1014 non-null   float64\n",
      " 2   HeartRate         1014 non-null   int64  \n",
      " 3   PatientID         1014 non-null   int64  \n",
      " 4   Gender_encoded    1014 non-null   int32  \n",
      " 5   Seizure_encoded   1014 non-null   int32  \n",
      " 6   AgeGroup_encoded  1014 non-null   int32  \n",
      "dtypes: float64(1), int32(3), int64(3)\n",
      "memory usage: 51.5 KB\n"
     ]
    }
   ],
   "source": [
    "df.info()"
   ]
  },
  {
   "cell_type": "code",
   "execution_count": 105,
   "metadata": {},
   "outputs": [
    {
     "name": "stdout",
     "output_type": "stream",
     "text": [
      "Training set shape: (709, 6) (709,)\n",
      "Testing set shape: (305, 6) (305,)\n"
     ]
    }
   ],
   "source": [
    "\n",
    "# Define features (X) and target variable (y)\n",
    "X = df.drop(columns=['Seizure_encoded'])  \n",
    "y = df['Seizure_encoded']  \n",
    "\n",
    "# Split the data into training and testing sets\n",
    "X_train, X_test, y_train, y_test = train_test_split(X, y, test_size=0.3, random_state=42)\n",
    "\n",
    "# Display the shapes of the resulting datasets\n",
    "print(\"Training set shape:\", X_train.shape, y_train.shape)\n",
    "print(\"Testing set shape:\", X_test.shape, y_test.shape)\n"
   ]
  },
  {
   "cell_type": "markdown",
   "metadata": {},
   "source": [
    "# Model Selection"
   ]
  },
  {
   "cell_type": "markdown",
   "metadata": {},
   "source": []
  },
  {
   "cell_type": "code",
   "execution_count": 106,
   "metadata": {},
   "outputs": [
    {
     "name": "stdout",
     "output_type": "stream",
     "text": [
      "\n",
      "Evaluation for Logistic Regression:\n",
      "Accuracy: 0.8032786885245902\n",
      "Precision: 0.35\n",
      "Recall: 0.12962962962962962\n",
      "F1-score: 0.1891891891891892\n",
      "ROC-AUC score: 0.5389184004721853\n",
      "\n",
      "Evaluation for Decision Tree:\n",
      "Accuracy: 1.0\n",
      "Precision: 1.0\n",
      "Recall: 1.0\n",
      "F1-score: 1.0\n",
      "ROC-AUC score: 1.0\n",
      "\n",
      "Evaluation for Random Forest:\n",
      "Accuracy: 1.0\n",
      "Precision: 1.0\n",
      "Recall: 1.0\n",
      "F1-score: 1.0\n",
      "ROC-AUC score: 1.0\n"
     ]
    },
    {
     "name": "stderr",
     "output_type": "stream",
     "text": [
      "c:\\Users\\George\\anaconda3\\Lib\\site-packages\\sklearn\\linear_model\\_logistic.py:469: ConvergenceWarning: lbfgs failed to converge (status=1):\n",
      "STOP: TOTAL NO. of ITERATIONS REACHED LIMIT.\n",
      "\n",
      "Increase the number of iterations (max_iter) or scale the data as shown in:\n",
      "    https://scikit-learn.org/stable/modules/preprocessing.html\n",
      "Please also refer to the documentation for alternative solver options:\n",
      "    https://scikit-learn.org/stable/modules/linear_model.html#logistic-regression\n",
      "  n_iter_i = _check_optimize_result(\n"
     ]
    }
   ],
   "source": [
    "\n",
    "\n",
    "\n",
    "\n",
    "# Initialize models\n",
    "logistic_regression = LogisticRegression()\n",
    "decision_tree = DecisionTreeClassifier()\n",
    "random_forest = RandomForestClassifier()\n",
    "\n",
    "# Train each model\n",
    "logistic_regression.fit(X_train, y_train)\n",
    "decision_tree.fit(X_train, y_train)\n",
    "random_forest.fit(X_train, y_train)\n",
    "\n",
    "# Make predictions on the testing data\n",
    "y_pred_lr = logistic_regression.predict(X_test)\n",
    "y_pred_dt = decision_tree.predict(X_test)\n",
    "y_pred_rf = random_forest.predict(X_test)\n",
    "\n",
    "# Evaluate performance\n",
    "models = ['Logistic Regression', 'Decision Tree', 'Random Forest']\n",
    "for i, y_pred in enumerate([y_pred_lr, y_pred_dt, y_pred_rf]):\n",
    "    print(f\"\\nEvaluation for {models[i]}:\")\n",
    "    print(\"Accuracy:\", accuracy_score(y_test, y_pred))\n",
    "    print(\"Precision:\", precision_score(y_test, y_pred))\n",
    "    print(\"Recall:\", recall_score(y_test, y_pred))\n",
    "    print(\"F1-score:\", f1_score(y_test, y_pred))\n",
    "    print(\"ROC-AUC score:\", roc_auc_score(y_test, y_pred))\n"
   ]
  },
  {
   "cell_type": "code",
   "execution_count": 108,
   "metadata": {},
   "outputs": [
    {
     "name": "stdout",
     "output_type": "stream",
     "text": [
      "Best Hyperparameters: {'max_depth': None, 'min_samples_leaf': 1, 'min_samples_split': 2, 'n_estimators': 100}\n",
      "\n",
      "Evaluation for Best Random Forest Model:\n",
      "Accuracy: 1.0\n",
      "Precision: 1.0\n",
      "Recall: 1.0\n",
      "F1-score: 1.0\n",
      "ROC-AUC score: 1.0\n",
      "\n",
      "Feature Importance:\n",
      "Age : 0.09878596299557936\n",
      "BodyTemp_Celsius : 0.8159002712428061\n",
      "HeartRate : 0.04522752026036916\n",
      "PatientID : 0.02248463536657914\n",
      "Gender_encoded : 0.002560785534392875\n",
      "AgeGroup_encoded : 0.015040824600273305\n",
      "\n",
      "Best model saved for deployment.\n"
     ]
    }
   ],
   "source": [
    "# Hyperparameter Tuning \n",
    "# Example: Perform grid search for Random Forest hyperparameters\n",
    "from sklearn.model_selection import GridSearchCV\n",
    "\n",
    "# Define hyperparameters to search\n",
    "param_grid = {\n",
    "    'n_estimators': [100, 200, 300],\n",
    "    'max_depth': [None, 10, 20],\n",
    "    'min_samples_split': [2, 5, 10],\n",
    "    'min_samples_leaf': [1, 2, 4]\n",
    "}\n",
    "\n",
    "# Initialize GridSearchCV\n",
    "grid_search = GridSearchCV(estimator=RandomForestClassifier(), param_grid=param_grid, cv=5, scoring='accuracy')\n",
    "\n",
    "# Perform grid search\n",
    "grid_search.fit(X_train, y_train)\n",
    "\n",
    "# Get the best hyperparameters\n",
    "best_params = grid_search.best_params_\n",
    "print(\"Best Hyperparameters:\", best_params)\n",
    "\n",
    "# Retrain the Random Forest model with the best hyperparameters\n",
    "best_random_forest = RandomForestClassifier(**best_params)\n",
    "best_random_forest.fit(X_train, y_train)\n",
    "\n",
    "# Make predictions on the testing data using the best model\n",
    "y_pred_best_rf = best_random_forest.predict(X_test)\n",
    "\n",
    "# Evaluate performance of the best model\n",
    "print(\"\\nEvaluation for Best Random Forest Model:\")\n",
    "print(\"Accuracy:\", accuracy_score(y_test, y_pred_best_rf))\n",
    "print(\"Precision:\", precision_score(y_test, y_pred_best_rf))\n",
    "print(\"Recall:\", recall_score(y_test, y_pred_best_rf))\n",
    "print(\"F1-score:\", f1_score(y_test, y_pred_best_rf))\n",
    "print(\"ROC-AUC score:\", roc_auc_score(y_test, y_pred_best_rf))\n",
    "\n",
    "# Model Interpretation \n",
    "feature_importance = best_random_forest.feature_importances_\n",
    "print(\"\\nFeature Importance:\")\n",
    "for i, feature in enumerate(X_train.columns):\n",
    "    print(feature, \":\", feature_importance[i])\n",
    "\n",
    "# Model Deployment \n",
    "import joblib\n",
    "joblib.dump(best_random_forest, 'best_random_forest_model.pkl')\n",
    "print(\"\\nBest model saved for deployment.\")\n"
   ]
  },
  {
   "cell_type": "code",
   "execution_count": null,
   "metadata": {},
   "outputs": [],
   "source": []
  }
 ],
 "metadata": {
  "kernelspec": {
   "display_name": "base",
   "language": "python",
   "name": "python3"
  },
  "language_info": {
   "codemirror_mode": {
    "name": "ipython",
    "version": 3
   },
   "file_extension": ".py",
   "mimetype": "text/x-python",
   "name": "python",
   "nbconvert_exporter": "python",
   "pygments_lexer": "ipython3",
   "version": "3.11.5"
  }
 },
 "nbformat": 4,
 "nbformat_minor": 2
}
